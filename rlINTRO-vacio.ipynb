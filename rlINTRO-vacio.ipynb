{
 "cells": [
  {
   "cell_type": "markdown",
   "id": "9c0b037c-8235-4578-acdd-5dc5418fb36c",
   "metadata": {
    "tags": []
   },
   "source": [
    "# Regresión lineal\n",
    "## Objetivo\n",
    "Técnica predictiva (supervisada) que intenta predecir una variable numérica (dependiente) a partir de otra u otras (independientes) encontrando un modelo lineal\n",
    "## Entrada\n",
    "Conjunto de datos de la forma de\n",
    "$$x_{1}, x_{2}, x_{3}, ... x_{n},    y $$\n",
    "\n",
    "Donde\n",
    "- $x_{i}$ son las variables independientes\n",
    "- $y$ es la variable dependiente\n",
    "\n",
    "## Salida\n",
    "**Ecuación** que mejor se ajusta, o describe, al conjunto de datos de entrada $X$ para predecir $y$ de la forma\n",
    " $$\\widehat{y} = \\beta_{0} + \\beta_{1} x_{1} + \\beta_{1} x_{1} + \\beta_{1} x_{1} + ... ++ \\beta_{1} x_{1} + \\epsilon$$\n",
    "\n",
    "Donde\n",
    "- $\\widehat{y}$  variable a predecir\n",
    "- $x_{i}$  son las variables independientes\n",
    "- $\\beta_{i}$  son los coeficientes lineales que multiplican a las variables independientes\n",
    "- $\\epsilon$ error cometido (mientras sea menor es mejor)"
   ]
  },
  {
   "cell_type": "code",
   "execution_count": 1,
   "id": "8fef52ea-af00-49dc-812c-f6eced9c6330",
   "metadata": {},
   "outputs": [],
   "source": [
    "# Librerías\n",
    "import numpy as np\n",
    "import pandas as pd\n",
    "import matplotlib.pyplot as plt\n",
    "\n",
    "## Regresión lineal\n",
    "from sklearn import linear_model    ## pip install sklearn\n",
    "from sklearn.metrics import mean_absolute_error, mean_squared_error, r2_score  #métricas de una regresión lineal"
   ]
  },
  {
   "cell_type": "raw",
   "id": "6c819bb1-d25f-4e81-b6e1-470cf85f1d47",
   "metadata": {},
   "source": [
    "Actualización de pip\n",
    "python -m pip install --upgrade pip\n",
    "\n",
    "Instalación de scikit learn\n",
    "pip install -U scikit-learn"
   ]
  },
  {
   "cell_type": "markdown",
   "id": "dfe274f3-ab6c-4a69-9853-7591950d86fc",
   "metadata": {},
   "source": [
    "# Ejemplo de regresión lineal simple (solo hay una x)\n",
    "## Lectura de datos de entrada"
   ]
  },
  {
   "cell_type": "code",
   "execution_count": 2,
   "id": "80b617a0-3ed3-4be1-9552-c812ee9032ab",
   "metadata": {},
   "outputs": [],
   "source": [
    "nTamanoBloque=7\n",
    "dfOriginal = pd.read_csv (\"./datosEntrada/casosxPeriodo_\"+str(nTamanoBloque)+\"_Dias.csv\");\n",
    "cuantosRegistros = len(dfOriginal.index)  #Cuántos registros de procesarán (TODOS en este caso)"
   ]
  },
  {
   "cell_type": "markdown",
   "id": "dd6e92c6-e859-4892-a002-86dd584ddf81",
   "metadata": {},
   "source": [
    "## Generación de dos conjuntos:\n",
    "- El de las variables independientes (Xs) y\n",
    "- El de la dependiente (ys)"
   ]
  },
  {
   "cell_type": "markdown",
   "id": "4be391a7-f7c4-49a6-a9d4-14eca68e19d4",
   "metadata": {},
   "source": [
    "NOTA: La división en conjunto de entrenamiento y de prueba se hará después (en este caso es serie temporal, no lo consideraremos)"
   ]
  },
  {
   "cell_type": "code",
   "execution_count": 3,
   "id": "08262125-feaf-4de2-af2d-35003b4d703f",
   "metadata": {},
   "outputs": [],
   "source": [
    "Xs = dfOriginal.iloc[ : cuantosRegistros+1 , [0]]   #Primera columna (xs)\n",
    "#               iloc[rango de filas        ,columnas]\n",
    "ys = dfOriginal.iloc[ : cuantosRegistros+1 , [1]]   #Segunda columna (ys)"
   ]
  },
  {
   "cell_type": "raw",
   "id": "0510f604-0667-450c-8d4c-398099ef1e79",
   "metadata": {
    "jupyter": {
     "source_hidden": true
    },
    "tags": []
   },
   "source": [
    "        ## Cambio de dataframe a npArray (es lo que recibe la regresión lineal)"
   ]
  },
  {
   "cell_type": "raw",
   "id": "c9f311b5-4867-4a41-9cce-d5b7c6fd9e76",
   "metadata": {
    "jupyter": {
     "source_hidden": true
    },
    "tags": []
   },
   "source": [
    "        #Ya no es necesario\n",
    "        #x=Xs.reshape(cuantosRegistros, 1)\n",
    "        #y=ys.reshape(cuantosRegistros, 1)\n",
    "\n",
    "        #x=otraX.reshape(cuantosRegistros, 1)\n",
    "        #y=otraY.reshape(cuantosRegistros, 1)\n",
    "        #type(x)"
   ]
  },
  {
   "cell_type": "markdown",
   "id": "05da2e3b-27e8-4ff0-83c4-fb46f85cda46",
   "metadata": {},
   "source": [
    "## Creación del modelo de regresión lineal a partide de $x$ y de $y$"
   ]
  },
  {
   "cell_type": "code",
   "execution_count": 4,
   "id": "c2544c5f-9a0b-4fb2-a706-f62efc7bf5ff",
   "metadata": {},
   "outputs": [
    {
     "data": {
      "text/plain": [
       "LinearRegression()"
      ]
     },
     "execution_count": 4,
     "metadata": {},
     "output_type": "execute_result"
    }
   ],
   "source": [
    "reg = linear_model.LinearRegression()\n",
    "reg.fit(Xs, ys)"
   ]
  },
  {
   "cell_type": "markdown",
   "id": "31271361-48d3-4697-8421-8b3e75d05f8c",
   "metadata": {},
   "source": [
    "### Coeficientes \n",
    "- $\\beta_{0}$ con reg.intercept_\n",
    "-  $\\beta_{1} $ con reg.coef_\n"
   ]
  },
  {
   "cell_type": "code",
   "execution_count": 5,
   "id": "c38882d0-0e4d-4cf6-9aa6-65006a159279",
   "metadata": {},
   "outputs": [
    {
     "name": "stdout",
     "output_type": "stream",
     "text": [
      "Coeficientes de x [[167.4831643]]\n",
      "Coeficiente independiente [4033.96551724]\n",
      "y =  [4033.96551724] + ( [167.4831643] )x1\n"
     ]
    }
   ],
   "source": [
    "print (\"Coeficientes de x\",reg.coef_)\n",
    "print (\"Coeficiente independiente\", reg.intercept_)\n",
    "print (\"y = \", str(reg.intercept_), \"+ (\", str(reg.coef_[0]),\")x1\")"
   ]
  },
  {
   "cell_type": "markdown",
   "id": "6b895425-afa8-4545-84d4-8e1dfa65b0f0",
   "metadata": {},
   "source": [
    "## Predicción "
   ]
  },
  {
   "cell_type": "code",
   "execution_count": 6,
   "id": "63fb53dd-8bdb-4409-bf4b-79bd4788685e",
   "metadata": {},
   "outputs": [],
   "source": [
    "yPredicha = reg.predict (Xs)"
   ]
  },
  {
   "cell_type": "markdown",
   "id": "c0565592-06af-4b52-b7df-cf476d2d8980",
   "metadata": {},
   "source": [
    "## Métricas\n",
    "- Error absoluto medio (MAE) en las unidades de medida de la variable dependiente\n",
    "- Error cuadrático medio (MSE), son unidades al cuadrado\n",
    "- Raíz del Error cuadrático medio (RMSE), en las unidades de medida de la variable dependiente\n",
    "- R^2 R cuadrada. [0,1]  1 es una predicción perfecta.\n",
    "\n",
    "Tanto el MSE como el RMSE _castigan_ más a las diferencias mayores (por el cuadrado de las diferencias), **mientras más pequeño, es mejor**.\n",
    "\n",
    "### Fórmulas\n",
    "$$MAE = \\dfrac{\\sum_{i=1}^{n} |y_i - \\widehat{y}_i|}{n } $$\n",
    "$$MSE = \\dfrac{\\sum_{i=1}^{n} (y_i - \\widehat{y}_i)^{2}}{n } $$\n",
    "$$RMSE = \\sqrt{\\dfrac{\\sum_{i=1}^{n} (y_i - \\widehat{y}_i)^{2}}{n } }$$\n",
    "\n",
    "$$R^{2} = \\dfrac{\\sum_{i=1}^{n} (\\widehat{y}_i - \\overline{y})^{2}}{\\sum_{i=1}^{n} (y_i - \\overline{y})^{2}}$$"
   ]
  },
  {
   "cell_type": "code",
   "execution_count": 7,
   "id": "8c0dfc67-3238-4808-bac4-fd6e190af38f",
   "metadata": {},
   "outputs": [
    {
     "name": "stdout",
     "output_type": "stream",
     "text": [
      "Media aritmética 11151.999999999998\n",
      "\n",
      "MSE = 76136226.92271334 unidades cuadradas\n",
      "RMSE= 8725.607538888817\n",
      "MAE = 6331.972168498514\n",
      "\n",
      "R^2= 0.18503255897633863\n"
     ]
    }
   ],
   "source": [
    "mse = mean_squared_error(ys, yPredicha)   #El cuadrado de la unidad de medida\n",
    "rmse= mse ** (1/2)\n",
    "mae = mean_absolute_error(ys, yPredicha)\n",
    "R2  = r2_score(ys, yPredicha)\n",
    "print (\"Media aritmética\", yPredicha.mean())\n",
    "print ()\n",
    "print (\"MSE =\",mse, \"unidades cuadradas\")\n",
    "print (\"RMSE=\",  rmse)\n",
    "print (\"MAE =\",mae)\n",
    "print ()\n",
    "print (\"R^2=\",R2)"
   ]
  },
  {
   "cell_type": "markdown",
   "id": "73de3acb-9555-433a-b507-c4000c900e2a",
   "metadata": {},
   "source": [
    "## Gráfica con\n",
    "- Datos de entrada\n",
    "- Ecuación lineal encontrada\n",
    "- Media de casos"
   ]
  },
  {
   "cell_type": "code",
   "execution_count": 8,
   "id": "f639e089-70b8-427c-8e75-b6a9287c37b1",
   "metadata": {},
   "outputs": [
    {
     "data": {
      "text/plain": [
       "[<matplotlib.lines.Line2D at 0x2b3d9d410d0>]"
      ]
     },
     "execution_count": 8,
     "metadata": {},
     "output_type": "execute_result"
    },
    {
     "data": {
      "image/png": "[encoded data removed]",
      "text/plain": [
       "<Figure size 1296x720 with 1 Axes>"
      ]
     },
     "metadata": {
      "needs_background": "light"
     },
     "output_type": "display_data"
    }
   ],
   "source": [
    "plt.figure (num=1, figsize=(18,10))\n",
    "#1 es un identificador (ID)\n",
    "\n",
    "plt.scatter(Xs, ys,  color='black') # Diagrama de dispersión\n",
    "\n",
    "plt.plot(Xs, yPredicha, color='blue', linewidth=3) #Diagrama de líneas\n",
    "\n",
    "media = np.full(len(yPredicha),yPredicha.mean()) #serie que repite la media n veces (así parece una línea)\n",
    "plt.plot(Xs, media, color=\"red\", linewidth=3)   #Media\n"
   ]
  },
  {
   "cell_type": "code",
   "execution_count": 9,
   "id": "5bc09b5e-ca1b-421d-b165-4da70adce9b1",
   "metadata": {},
   "outputs": [
    {
     "name": "stdout",
     "output_type": "stream",
     "text": [
      "Fin del notebook 2021-10-14 19:57:27.467510\n"
     ]
    }
   ],
   "source": [
    "import datetime as dt\n",
    "print (\"Fin del notebook\", dt.datetime.today())"
   ]
  }
 ],
 "metadata": {
  "kernelspec": {
   "display_name": "Python 3 (ipykernel)",
   "language": "python",
   "name": "python3"
  },
  "language_info": {
   "codemirror_mode": {
    "name": "ipython",
    "version": 3
   },
   "file_extension": ".py",
   "mimetype": "text/x-python",
   "name": "python",
   "nbconvert_exporter": "python",
   "pygments_lexer": "ipython3",
   "version": "3.9.6"
  }
 },
 "nbformat": 4,
 "nbformat_minor": 5
}
